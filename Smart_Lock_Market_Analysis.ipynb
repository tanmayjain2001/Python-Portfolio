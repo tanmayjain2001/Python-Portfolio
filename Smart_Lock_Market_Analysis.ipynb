{
 "cells": [
  {
   "cell_type": "markdown",
   "id": "ce32c84b-2610-4174-b939-f9be33c17e72",
   "metadata": {},
   "source": [
    "# Data scraping/cleaning"
   ]
  },
  {
   "cell_type": "markdown",
   "id": "eb0e38cf-09c8-4b4a-9827-3e76e39c7083",
   "metadata": {},
   "source": [
    "### Importing necessary libraries"
   ]
  },
  {
   "cell_type": "code",
   "execution_count": 1,
   "id": "0da02bd0-a30c-403e-80da-c22e40fe13b8",
   "metadata": {},
   "outputs": [],
   "source": [
    "import requests\n",
    "from bs4 import BeautifulSoup\n",
    "import pandas as pd"
   ]
  },
  {
   "cell_type": "code",
   "execution_count": 2,
   "id": "92d0efe5-007b-4730-aec2-5610d28072d4",
   "metadata": {},
   "outputs": [],
   "source": [
    "smart_locks = []\n",
    "rank = 1"
   ]
  },
  {
   "cell_type": "code",
   "execution_count": 1,
   "id": "9babbe7a-3784-451e-b156-cfe11ec061df",
   "metadata": {},
   "outputs": [],
   "source": [
    "for i in range(1, 7):  \n",
    "    url = f'https://www.flipkart.com/search?q=smart+lock&otracker=search&otracker1=search&marketplace=FLIPKART&as-show=off&as=off&page={i}'\n",
    "    response = requests.get(url)\n",
    "    \n",
    "    # Checking if the request was successful\n",
    "    if response.status_code == 200:\n",
    "        print(f\"Successfully scraped page {i}\")\n",
    "    else:\n",
    "        print(f\"Failed to scrape page {i}. Status code: {response.status_code}\")\n",
    "        continue\n",
    "\n",
    "    # Parsing the page content\n",
    "    soup = BeautifulSoup(response.content, 'html.parser')\n",
    "\n",
    "    # Finding all products on the page \n",
    "    products = soup.find_all('div', class_='slAVV4')\n",
    "\n",
    "    # Looping through each product and extract required details\n",
    "    for product in products:\n",
    "        # Extract brand and title\n",
    "        title_tag = product.find('a', class_='wjcEIp')\n",
    "        if title_tag:\n",
    "            title = title_tag.text.strip()\n",
    "            brand_name = title.split()[0]  # Assuming the first word is the brand name\n",
    "        else:\n",
    "            title = 'N/A'\n",
    "            brand_name = 'N/A'\n",
    "\n",
    "        # Extract price\n",
    "        price_tag = product.find('div', class_='Nx9bqj')\n",
    "        if price_tag:\n",
    "            price = price_tag.text.strip().replace('₹', '').replace(',', '')\n",
    "        else:\n",
    "            price = 'N/A'\n",
    "\n",
    "        # Extract rating\n",
    "        rating_tag = product.find('div', class_='XQDdHH')\n",
    "        if rating_tag:\n",
    "            rating = rating_tag.text.strip()\n",
    "        else:\n",
    "            rating = 'N/A'\n",
    "\n",
    "        \n",
    "        # Extract rating count\n",
    "        rating_count_tag = product.find('span', class_='Wphh3N')\n",
    "        if rating_count_tag:\n",
    "            rating_count = rating_count_tag.text.strip().split()[0].replace(',', '').replace('(', '').replace(')', '')\n",
    "        else:\n",
    "            rating_count = 'N/A'\n",
    "\n",
    "\n",
    "        # Extract product URL\n",
    "        url_tag = product.find('a', class_='VJA3rP')\n",
    "        if url_tag:\n",
    "            product_url = 'https://www.flipkart.com' + url_tag['href']\n",
    "        else:\n",
    "            product_url = 'N/A'\n",
    "\n",
    "    \n",
    "        smart_locks.append([brand_name, title, price, rating, rating_count, rank, product_url])\n",
    "\n",
    "      \n",
    "        rank += 1"
   ]
  },
  {
   "cell_type": "code",
   "execution_count": 5,
   "id": "0a12a7cf-e870-4335-aed1-ead56e222f90",
   "metadata": {},
   "outputs": [],
   "source": [
    "df = pd.DataFrame(smart_locks, columns=['Brand Name', 'Title', 'Price', 'Rating', 'Rating Count', 'Ranking', 'URL'])"
   ]
  },
  {
   "cell_type": "code",
   "execution_count": null,
   "id": "464499ac-338f-4413-9161-170dbb0f1ba7",
   "metadata": {},
   "outputs": [],
   "source": []
  },
  {
   "cell_type": "code",
   "execution_count": 7,
   "id": "0c444431-534e-44c6-9313-85009345196a",
   "metadata": {},
   "outputs": [],
   "source": []
  },
  {
   "cell_type": "code",
   "execution_count": 6,
   "id": "4967ba28-7978-4638-8c16-c09efc2e8676",
   "metadata": {},
   "outputs": [],
   "source": [
    "df.index = df.index + 1"
   ]
  },
  {
   "cell_type": "code",
   "execution_count": null,
   "id": "e6d47988-d5cf-465d-8fa1-99f0945ee92c",
   "metadata": {},
   "outputs": [],
   "source": [
    "df"
   ]
  },
  {
   "cell_type": "code",
   "execution_count": 8,
   "id": "0aa422ad-011b-41fb-b22a-c24fe35eb826",
   "metadata": {},
   "outputs": [],
   "source": [
    "# Save the DataFrame to a CSV file\n",
    "df.to_csv('smart_lock.csv', index=False)"
   ]
  },
  {
   "cell_type": "code",
   "execution_count": null,
   "id": "23c68936-b628-4d60-998e-812f07b6d61b",
   "metadata": {},
   "outputs": [],
   "source": [
    "df.shape"
   ]
  },
  {
   "cell_type": "code",
   "execution_count": null,
   "id": "427d95d4-dc2e-46f0-b03c-a3786330e1e8",
   "metadata": {},
   "outputs": [],
   "source": []
  }
 ],
 "metadata": {
  "kernelspec": {
   "display_name": "Python 3 (ipykernel)",
   "language": "python",
   "name": "python3"
  },
  "language_info": {
   "codemirror_mode": {
    "name": "ipython",
    "version": 3
   },
   "file_extension": ".py",
   "mimetype": "text/x-python",
   "name": "python",
   "nbconvert_exporter": "python",
   "pygments_lexer": "ipython3",
   "version": "3.12.3"
  }
 },
 "nbformat": 4,
 "nbformat_minor": 5
}
