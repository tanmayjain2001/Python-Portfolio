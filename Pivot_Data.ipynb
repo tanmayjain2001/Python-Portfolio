{
 "cells": [
  {
   "cell_type": "markdown",
   "id": "ccf7dbbe-2b91-4ca2-8596-90499f660662",
   "metadata": {},
   "source": [
    "#### Importing libraries"
   ]
  },
  {
   "cell_type": "code",
   "execution_count": 2,
   "id": "fec6a63a-9c0b-45c7-8670-3c89f35ad6ca",
   "metadata": {},
   "outputs": [],
   "source": [
    "import pandas as pd"
   ]
  },
  {
   "cell_type": "code",
   "execution_count": 19,
   "id": "582b4676-bba7-4854-9d35-8ca4bff34fbd",
   "metadata": {},
   "outputs": [],
   "source": [
    "df = pd.read_csv('smart_lock.csv')"
   ]
  },
  {
   "cell_type": "markdown",
   "id": "7036e49e-fe6b-4500-a898-ff7fc3e41227",
   "metadata": {},
   "source": [
    "#### 1.1 Sorting brands according to relative ranking."
   ]
  },
  {
   "cell_type": "code",
   "execution_count": null,
   "id": "d685a85d-f5ed-44b3-a41c-783c778cbc69",
   "metadata": {},
   "outputs": [],
   "source": [
    "result_df = df.groupby('BrandName').agg({'Ranking': 'mean'}).reset_index()\n",
    "\n",
    "result_df.columns = ['BrandName', 'avg_Ranking']\n",
    "\n",
    "result_df = result_df.sort_values(by='avg_Ranking', ascending=True)\n",
    "\n",
    "result_df"
   ]
  },
  {
   "cell_type": "code",
   "execution_count": 74,
   "id": "93f7d356-68d7-44a1-ab06-1898d21f7ab7",
   "metadata": {},
   "outputs": [],
   "source": [
    "brands = result_df['BrandName'].tolist()"
   ]
  },
  {
   "cell_type": "code",
   "execution_count": null,
   "id": "a10bf1f3-3114-4e59-8544-3435f08043a5",
   "metadata": {},
   "outputs": [],
   "source": [
    "brands"
   ]
  },
  {
   "cell_type": "markdown",
   "id": "425216b9-c3f4-4318-9d59-b640b6033df7",
   "metadata": {},
   "source": [
    "#### 1.2 Python script for relative ranking"
   ]
  },
  {
   "cell_type": "code",
   "execution_count": null,
   "id": "fe358d5b-0998-4c1c-8769-0e81101167e9",
   "metadata": {},
   "outputs": [],
   "source": [
    "sql_query = \"SELECT\\n\"\n",
    "\n",
    "for brand in brands:\n",
    "    sql_query += (\n",
    "        f\"IFNULL(CASE WHEN ï»¿BrandName = '{brand}' THEN Title END, ' ') AS {brand}_Title,\\n\"\n",
    "        f\"IFNULL(CASE WHEN ï»¿BrandName = '{brand}' THEN Ranking END, ' ') AS {brand}_Ranking,\\n\"\n",
    "    )\n",
    "\n",
    "# Remove the last comma and add the FROM clause\n",
    "sql_query = sql_query.rstrip(',\\n') + \"\\nFROM `scrapping data`.smart_lock\\n\"\n",
    "\n",
    "# Print the generated query\n",
    "print(sql_query)\n"
   ]
  },
  {
   "cell_type": "markdown",
   "id": "168ac061-cb22-4878-a832-a51d7c0a8e34",
   "metadata": {},
   "source": [
    "#### 2.1 Sorting brands according to the relative rating"
   ]
  },
  {
   "cell_type": "code",
   "execution_count": null,
   "id": "2a38d152-5ea2-4a7a-8f39-5e70f4353c44",
   "metadata": {
    "scrolled": true
   },
   "outputs": [],
   "source": [
    "result_df = df.groupby('BrandName').agg({'Rating': 'mean'}).reset_index()\n",
    "\n",
    "result_df.columns = ['BrandName', 'avg_Rating']\n",
    "\n",
    "result_df = result_df.sort_values(by='avg_Rating', ascending=False)\n",
    "\n",
    "result_df"
   ]
  },
  {
   "cell_type": "code",
   "execution_count": 93,
   "id": "a9ae87bd-2193-467a-81f9-8f63bb1f7635",
   "metadata": {},
   "outputs": [],
   "source": [
    "brands = result_df['BrandName'].tolist()"
   ]
  },
  {
   "cell_type": "code",
   "execution_count": 102,
   "id": "488f6af6-7b78-4df1-af84-c48457065e4d",
   "metadata": {},
   "outputs": [],
   "source": [
    "brands"
   ]
  },
  {
   "cell_type": "markdown",
   "id": "0e9ffa89-76b4-4f23-8f3f-5fc068bbafe5",
   "metadata": {},
   "source": [
    "#### 2.2 Python script for relative rating"
   ]
  },
  {
   "cell_type": "code",
   "execution_count": null,
   "id": "6d4c850c-64cc-4038-b995-52f3472cfc27",
   "metadata": {},
   "outputs": [],
   "source": [
    "sql_query = \"SELECT\\n\"\n",
    "\n",
    "for brand in brands:\n",
    "    sql_query += (\n",
    "        f\"IFNULL(CASE WHEN ï»¿BrandName = '{brand}' THEN Title END, ' ') AS {brand}_Title,\\n\"\n",
    "        f\"IFNULL(CASE WHEN ï»¿BrandName = '{brand}' THEN Rating END, ' ') AS {brand}_Rating,\\n\"\n",
    "    )\n",
    "\n",
    "# Remove the last comma and add the FROM clause\n",
    "sql_query = sql_query.rstrip(',\\n') + \"\\nFROM `scrapping data`.smart_lock\\n\"\n",
    "\n",
    "# Print the generated query\n",
    "print(sql_query)\n"
   ]
  }
 ],
 "metadata": {
  "kernelspec": {
   "display_name": "Python 3 (ipykernel)",
   "language": "python",
   "name": "python3"
  },
  "language_info": {
   "codemirror_mode": {
    "name": "ipython",
    "version": 3
   },
   "file_extension": ".py",
   "mimetype": "text/x-python",
   "name": "python",
   "nbconvert_exporter": "python",
   "pygments_lexer": "ipython3",
   "version": "3.12.3"
  }
 },
 "nbformat": 4,
 "nbformat_minor": 5
}
